{
 "cells": [
  {
   "cell_type": "markdown",
   "metadata": {},
   "source": [
    "### 재귀호출"
   ]
  },
  {
   "cell_type": "code",
   "execution_count": 19,
   "metadata": {},
   "outputs": [],
   "source": [
    "count = 10\n",
    "\n",
    "def openBox():\n",
    "    global count\n",
    "    print('종이상자를 엽니다.')\n",
    "    count -= 1 \n",
    "    if count == 0:\n",
    "        print('반지를 넣고 반환합니다.')\n",
    "        return\n",
    "    openBox() # 자기 자신을 다시 호출\n",
    "    print('종이 상자를 닫습니다.')"
   ]
  },
  {
   "cell_type": "code",
   "execution_count": 20,
   "metadata": {},
   "outputs": [
    {
     "name": "stdout",
     "output_type": "stream",
     "text": [
      "종이상자를 엽니다.\n",
      "종이상자를 엽니다.\n",
      "종이상자를 엽니다.\n",
      "종이상자를 엽니다.\n",
      "종이상자를 엽니다.\n",
      "종이상자를 엽니다.\n",
      "종이상자를 엽니다.\n",
      "종이상자를 엽니다.\n",
      "종이상자를 엽니다.\n",
      "종이상자를 엽니다.\n",
      "반지를 넣고 반환합니다.\n",
      "종이 상자를 닫습니다.\n",
      "종이 상자를 닫습니다.\n",
      "종이 상자를 닫습니다.\n",
      "종이 상자를 닫습니다.\n",
      "종이 상자를 닫습니다.\n",
      "종이 상자를 닫습니다.\n",
      "종이 상자를 닫습니다.\n",
      "종이 상자를 닫습니다.\n",
      "종이 상자를 닫습니다.\n"
     ]
    }
   ],
   "source": [
    "openBox()"
   ]
  },
  {
   "attachments": {},
   "cell_type": "markdown",
   "metadata": {},
   "source": [
    "### 재귀호출 하지 않고 반복문으로 계산"
   ]
  },
  {
   "cell_type": "code",
   "execution_count": 21,
   "metadata": {},
   "outputs": [
    {
     "name": "stdout",
     "output_type": "stream",
     "text": [
      "10+9+8+...+1 =  55\n"
     ]
    }
   ],
   "source": [
    "sumValue = 0\n",
    "for n in range(10, 0, -1):\n",
    "    sumValue += n\n",
    "print('10+9+8+...+1 = ', sumValue)"
   ]
  },
  {
   "attachments": {},
   "cell_type": "markdown",
   "metadata": {},
   "source": [
    "### 재귀호출로 덧셈하기"
   ]
  },
  {
   "cell_type": "code",
   "execution_count": 22,
   "metadata": {},
   "outputs": [
    {
     "name": "stdout",
     "output_type": "stream",
     "text": [
      "6\n"
     ]
    }
   ],
   "source": [
    "def addNumber(num):\n",
    "    if num <= 1:\n",
    "        return 1\n",
    "    else:\n",
    "        return num + addNumber(num - 1)\n",
    "print(addNumber(3))"
   ]
  },
  {
   "attachments": {},
   "cell_type": "markdown",
   "metadata": {},
   "source": [
    "### 팩토리얼 반복문"
   ]
  },
  {
   "cell_type": "code",
   "execution_count": 25,
   "metadata": {},
   "outputs": [
    {
     "name": "stdout",
     "output_type": "stream",
     "text": [
      "10*9*8..*2*1 93326215443944152681699238856266700490715968264381621468592963895217599993229915608941463976156518286253697920827223758251185210916864000000000000000000000000\n"
     ]
    }
   ],
   "source": [
    "factValue = 1\n",
    "for n in range(100, 0, -1):\n",
    "    factValue *= n\n",
    "\n",
    "print('10*9*8..*2*1', factValue)"
   ]
  },
  {
   "attachments": {},
   "cell_type": "markdown",
   "metadata": {},
   "source": [
    "### 팩토리얼 재귀호출"
   ]
  },
  {
   "cell_type": "code",
   "execution_count": 28,
   "metadata": {},
   "outputs": [
    {
     "name": "stdout",
     "output_type": "stream",
     "text": [
      "10! =  93326215443944152681699238856266700490715968264381621468592963895217599993229915608941463976156518286253697920827223758251185210916864000000000000000000000000\n"
     ]
    }
   ],
   "source": [
    "def factorial(num):\n",
    "    if num <= 1:\n",
    "        return 1\n",
    "    return num * factorial(num - 1)\n",
    "print('10! = ', factorial(100))"
   ]
  },
  {
   "cell_type": "code",
   "execution_count": 35,
   "metadata": {},
   "outputs": [
    {
     "name": "stdout",
     "output_type": "stream",
     "text": [
      "10\n",
      "9\n",
      "8\n",
      "7\n",
      "6\n",
      "5\n",
      "4\n",
      "3\n",
      "2\n",
      "1\n",
      "우주선 발사\n"
     ]
    }
   ],
   "source": [
    "import time\n",
    "\n",
    "def countdown(n):\n",
    "    if n == 0:\n",
    "        print('우주선 발사')\n",
    "    else:\n",
    "        print(n)\n",
    "        time.sleep(1)\n",
    "        countdown(n - 1)\n",
    "countdown(10)"
   ]
  },
  {
   "cell_type": "code",
   "execution_count": 36,
   "metadata": {},
   "outputs": [
    {
     "name": "stdout",
     "output_type": "stream",
     "text": [
      "*\n",
      "**\n",
      "***\n",
      "****\n",
      "*****\n"
     ]
    }
   ],
   "source": [
    "def printStar(n):\n",
    "    if n > 0:\n",
    "        printStar(n-1)\n",
    "        print('*' * n)\n",
    "printStar(5)"
   ]
  },
  {
   "cell_type": "code",
   "execution_count": 37,
   "metadata": {},
   "outputs": [
    {
     "name": "stdout",
     "output_type": "stream",
     "text": [
      "2^10\n",
      " 2x2^10-1\n",
      " 2x2^9-1\n",
      " 2x2^8-1\n",
      " 2x2^7-1\n",
      " 2x2^6-1\n",
      " 2x2^5-1\n",
      " 2x2^4-1\n",
      " 2x2^3-1\n",
      " 2x2^2-1\n",
      " 2x2^1-1\n",
      "답 ->  1024\n"
     ]
    }
   ],
   "source": [
    "tab = ''\n",
    "def pow(x, n):\n",
    "    global tab\n",
    "    tab += ''\n",
    "    if n == 0 :\n",
    "        return 1\n",
    "    print(tab, f'{x}x{x}^{n}-{1}')\n",
    "    return x * pow(x, n-1)\n",
    "\n",
    "print('2^10')\n",
    "print('답 -> ', pow(2,10))"
   ]
  },
  {
   "cell_type": "code",
   "execution_count": 38,
   "metadata": {},
   "outputs": [],
   "source": [
    "def fibonaci(n):\n",
    "    if n == 0: return 0\n",
    "    elif n == 1: return 1\n",
    "    else:\n",
    "        fibonaci(n-1) + fibonaci(n-2)\n",
    "\n",
    "print('피보나치 수 -> 0 1', end='')\n",
    "for i in range(2, 10):\n",
    "    print(fibonaci(i), end='')"
   ]
  },
  {
   "attachments": {},
   "cell_type": "markdown",
   "metadata": {},
   "source": [
    "### 회문여부"
   ]
  },
  {
   "cell_type": "code",
   "execution_count": 40,
   "metadata": {},
   "outputs": [
    {
     "data": {
      "text/plain": [
       "'aya'"
      ]
     },
     "execution_count": 40,
     "metadata": {},
     "output_type": "execute_result"
    }
   ],
   "source": [
    "def palindrome(pStr): # kayak\n",
    "    if len(pStr) <= 1:\n",
    "        return True\n",
    "\n",
    "    if pStr[0] != pStr[-1]: # 0번쨰 k \n",
    "        return False\n",
    "\n",
    "    return palindrome(pStr[1:len(pStr)-1])\n",
    "\n",
    "a = 'kayak'\n",
    "a[1:len(a)-1]"
   ]
  },
  {
   "cell_type": "code",
   "execution_count": 41,
   "metadata": {},
   "outputs": [],
   "source": [
    "strAry = ['reaver', 'kayak', 'Borrow or rob', '주유소의 소유주', '이번 주 주번이 너야', '살금 살금']"
   ]
  },
  {
   "cell_type": "code",
   "execution_count": 42,
   "metadata": {},
   "outputs": [
    {
     "name": "stdout",
     "output_type": "stream",
     "text": [
      "reaver --> 회문이 아닙니다.\n",
      "kayak --> 회문 입니다.\n",
      "Borrow or rob --> 회문 입니다.\n",
      "주유소의 소유주 --> 회문 입니다.\n",
      "이번 주 주번이 너야 --> 회문이 아닙니다.\n",
      "살금 살금 --> 회문이 아닙니다.\n"
     ]
    }
   ],
   "source": [
    "for testStr in strAry:\n",
    "    print(testStr, end=' --> ')\n",
    "    testStr = testStr.lower().replace(' ', '') # 영어 대문자를 없애주고 공백을 없앰\n",
    "    if palindrome(testStr) == True:\n",
    "        print('회문 입니다.')\n",
    "    else:\n",
    "        print('회문이 아닙니다.')"
   ]
  },
  {
   "cell_type": "code",
   "execution_count": null,
   "metadata": {},
   "outputs": [],
   "source": []
  }
 ],
 "metadata": {
  "kernelspec": {
   "display_name": "Python 3",
   "language": "python",
   "name": "python3"
  },
  "language_info": {
   "codemirror_mode": {
    "name": "ipython",
    "version": 3
   },
   "file_extension": ".py",
   "mimetype": "text/x-python",
   "name": "python",
   "nbconvert_exporter": "python",
   "pygments_lexer": "ipython3",
   "version": "3.11.1"
  },
  "orig_nbformat": 4,
  "vscode": {
   "interpreter": {
    "hash": "a3d8f53f1429d27b792a3789224562ddd32c1395c9a9cfbb17b3c19c3b9a493d"
   }
  }
 },
 "nbformat": 4,
 "nbformat_minor": 2
}
