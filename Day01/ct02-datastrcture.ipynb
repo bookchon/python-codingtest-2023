{
 "cells": [
  {
   "attachments": {},
   "cell_type": "markdown",
   "metadata": {},
   "source": [
    "## 자료구조\n",
    "\n",
    "### 숫자의 합 - 백준 11720 "
   ]
  },
  {
   "cell_type": "code",
   "execution_count": 9,
   "metadata": {},
   "outputs": [
    {
     "name": "stdout",
     "output_type": "stream",
     "text": [
      "0\n"
     ]
    }
   ],
   "source": [
    "n = input('더할 수의 개수 입력 > ')\n",
    "numbers = list(map(int, input(f'{n}개의 수를 입력하세요 > ')))\n",
    "sum = 0 \n",
    "\n",
    "for i in numbers:\n",
    "    sum += int(i)\n",
    "\n",
    "print(sum)"
   ]
  },
  {
   "cell_type": "code",
   "execution_count": 30,
   "metadata": {},
   "outputs": [
    {
     "data": {
      "text/plain": [
       "<map at 0x201e16a86a0>"
      ]
     },
     "execution_count": 30,
     "metadata": {},
     "output_type": "execute_result"
    }
   ],
   "source": [
    "numbers = map(int, [1,2,3,4,5])\n",
    "\n",
    "numbers"
   ]
  },
  {
   "cell_type": "code",
   "execution_count": 31,
   "metadata": {},
   "outputs": [
    {
     "ename": "ValueError",
     "evalue": "max() arg is an empty sequence",
     "output_type": "error",
     "traceback": [
      "\u001b[1;31m---------------------------------------------------------------------------\u001b[0m",
      "\u001b[1;31mValueError\u001b[0m                                Traceback (most recent call last)",
      "Cell \u001b[1;32mIn[31], line 3\u001b[0m\n\u001b[0;32m      1\u001b[0m n \u001b[39m=\u001b[39m \u001b[39minput\u001b[39m()\n\u001b[0;32m      2\u001b[0m number \u001b[39m=\u001b[39m \u001b[39mlist\u001b[39m(\u001b[39mmap\u001b[39m(\u001b[39mint\u001b[39m, \u001b[39minput\u001b[39m()\u001b[39m.\u001b[39msplit()))\n\u001b[1;32m----> 3\u001b[0m maxnumber \u001b[39m=\u001b[39m \u001b[39mmax\u001b[39;49m(number)\n\u001b[0;32m      4\u001b[0m sumnumber \u001b[39m=\u001b[39m \u001b[39m0\u001b[39m\n\u001b[0;32m      6\u001b[0m \u001b[39mfor\u001b[39;00m i \u001b[39min\u001b[39;00m number:\n",
      "\u001b[1;31mValueError\u001b[0m: max() arg is an empty sequence"
     ]
    }
   ],
   "source": [
    "n = input()\n",
    "number = list(map(int, input().split()))\n",
    "maxnumber = max(number)\n",
    "sumnumber = 0\n",
    "\n",
    "for i in number:\n",
    "    sumnumber += i\n",
    "\n",
    "print(sumnumber * 100 / maxnumber / n)"
   ]
  },
  {
   "cell_type": "code",
   "execution_count": 38,
   "metadata": {},
   "outputs": [
    {
     "name": "stdout",
     "output_type": "stream",
     "text": [
      "12\n"
     ]
    }
   ],
   "source": [
    "n, m = tuple(map(int, input().split()))\n",
    "numbers = list(map(int, input().split()))\n",
    "sums = [0] # 배열 0번째 인덱스\n",
    "temp = 0\n",
    "\n",
    "for i in numbers:\n",
    "    temp = temp + i # temp = 5, 9 12 14 15\n",
    "    sums.append(temp)\n",
    "    # sum = [0, 5, 9, 12, 14, 15]\n",
    "\n",
    "for i in range(m):\n",
    "    x, y = tuple(map(int, input().split()))\n",
    "    print(sums[y] - sums[x - 1]) "
   ]
  }
 ],
 "metadata": {
  "kernelspec": {
   "display_name": "Python 3",
   "language": "python",
   "name": "python3"
  },
  "language_info": {
   "codemirror_mode": {
    "name": "ipython",
    "version": 3
   },
   "file_extension": ".py",
   "mimetype": "text/x-python",
   "name": "python",
   "nbconvert_exporter": "python",
   "pygments_lexer": "ipython3",
   "version": "3.11.1"
  },
  "orig_nbformat": 4,
  "vscode": {
   "interpreter": {
    "hash": "a3d8f53f1429d27b792a3789224562ddd32c1395c9a9cfbb17b3c19c3b9a493d"
   }
  }
 },
 "nbformat": 4,
 "nbformat_minor": 2
}
